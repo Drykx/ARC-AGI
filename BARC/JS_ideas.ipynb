{
 "cells": [
  {
   "cell_type": "markdown",
   "metadata": {},
   "source": [
    "# Results \n",
    "\n",
    "- As shown with the huge corpus of concepts, typical language is suboptimal and there doesnt exist a formal mathematical one. Today the best language is Hodel's DSL. \n",
    "\n",
    "\n",
    "### Hodel's DSL \n",
    "\n",
    "ARC_dsl: creation DSL \n",
    "\n",
    "- Notion of object is central. It can either be at the pixel or the grid level. Goes with the background being ignored. Mostly black but can be another color. -> We could transform the grid with another token for background.\n",
    "    - Used 50% of the time, 6 most used primitive. 10 notions of object. \n",
    "            \n",
    "- DSL put in three equal size of primitives. (Not intentional nor clear)\n",
    "    - Transformations: functions that transform a grid or an object: resize / mirror / rotate / recolor / move...\n",
    "    - Proprieties: extract features of an entities: center of mass / shape \n",
    "    - Utils: function that implements: set of operations (difference,union) / arithmetic operations (addition..,) / heper functionality (fitlering, branching)\n",
    "\n",
    "- 164 primitives\n",
    "\n",
    "- ChatGPT.01. Main words: arithmetic, boolean, indexing, containers, sets, tuples, grids, patches, objects, colors, shapes, transformations, geometry, filtering, composition, neighbors, scaling, rotation, reflection, partitioning\n",
    "\n"
   ]
  },
  {
   "cell_type": "markdown",
   "metadata": {},
   "source": [
    "# Main papers\n",
    "\n",
    "- TTT\n",
    "- Inductive / Transductive\n",
    "- Architects \n",
    "- OmniARC\n",
    "- ReARC"
   ]
  },
  {
   "cell_type": "markdown",
   "metadata": {},
   "source": [
    "# To do\n",
    "\n",
    "### Code\n",
    "- List augmentation functions\n",
    "- Look at the first concept for the seeds\n",
    "\n",
    "### Investigation\n",
    "- Look at Hodel DSL to see if repeated behavior in primitives"
   ]
  }
 ],
 "metadata": {
  "language_info": {
   "name": "python"
  }
 },
 "nbformat": 4,
 "nbformat_minor": 2
}
